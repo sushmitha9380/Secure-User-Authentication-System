{
 "cells": [
  {
   "cell_type": "code",
   "execution_count": 1,
   "metadata": {},
   "outputs": [
    {
     "name": "stdout",
     "output_type": "stream",
     "text": [
      "^C\n"
     ]
    }
   ],
   "source": [
    "!pip install python-dotenv\n"
   ]
  },
  {
   "cell_type": "code",
   "execution_count": 1,
   "metadata": {},
   "outputs": [
    {
     "name": "stdout",
     "output_type": "stream",
     "text": [
      "Requirement already satisfied: pyodbc in c:\\programdata\\anaconda3\\lib\\site-packages (4.0.0-unsupported)\n",
      "Note: you may need to restart the kernel to use updated packages.\n"
     ]
    }
   ],
   "source": [
    "pip install pyodbc\n"
   ]
  },
  {
   "cell_type": "code",
   "execution_count": null,
   "metadata": {},
   "outputs": [
    {
     "name": "stdout",
     "output_type": "stream",
     "text": [
      "\n",
      "1. Sign Up\n",
      "2. Log In\n",
      "3. Exit\n",
      "Select an option (1/2/3): 1\n",
      "Enter a new username: kiran\n",
      "Enter a password: kiran@123\n",
      "User kiran created successfully!\n",
      "\n",
      "1. Sign Up\n",
      "2. Log In\n",
      "3. Exit\n",
      "Select an option (1/2/3): 2\n",
      "Enter username: kiran\n",
      "Enter password: kiran@123\n",
      "Welcome back, kiran!\n",
      "\n",
      "1. Sign Up\n",
      "2. Log In\n",
      "3. Exit\n"
     ]
    }
   ],
   "source": [
    "import pyodbc\n",
    "import os\n",
    "from dotenv import load_dotenv\n",
    "import hashlib\n",
    "\n",
    "load_dotenv()\n",
    "\n",
    "# connection to MSSQL server\n",
    "def create_db_connection():\n",
    "    conn = pyodbc.connect(\n",
    "        'DRIVER={SQL Server};'\n",
    "        f'SERVER={os.getenv(\"SQL_SERVER\")};'\n",
    "        f'DATABASE={os.getenv(\"SQL_DATABASE\")};'  \n",
    "        'Trusted_Connection=yes;'\n",
    "    )\n",
    "    return conn\n",
    "\n",
    "# Hash the password for security\n",
    "def hash_password(password):\n",
    "    return hashlib.sha256(password.encode()).hexdigest()\n",
    "\n",
    "#  if the username already exists in the database\n",
    "def check_username_exists(username):\n",
    "    conn = create_db_connection()\n",
    "    cursor = conn.cursor()\n",
    "    cursor.execute(\"SELECT * FROM dbo.Users WHERE username=?\", (username,))  # Using dbo.Users\n",
    "    user = cursor.fetchone()\n",
    "    conn.close()\n",
    "    return user is not None\n",
    "\n",
    " #Sign up function\n",
    "def signup():\n",
    "    username = input(\"Enter a new username: \")\n",
    "    \n",
    "    if check_username_exists(username):\n",
    "        print(\"Username already exists. Please try again.\")\n",
    "        return\n",
    "    \n",
    "    password = input(\"Enter a password: \")\n",
    "    hashed_password = hash_password(password)\n",
    "    \n",
    "    try:\n",
    "        conn = create_db_connection()\n",
    "        cursor = conn.cursor()\n",
    "        cursor.execute(\"INSERT INTO dbo.Users (username, password) VALUES (?, ?)\", (username, hashed_password))\n",
    "        conn.commit()\n",
    "        conn.close()\n",
    "        print(f\"User {username} created successfully!\")\n",
    "    except Exception as e:\n",
    "        print(\"Error during sign up:\", e)\n",
    "\n",
    "#Login function\n",
    "def login():\n",
    "    username = input(\"Enter username: \")\n",
    "    password = input(\"Enter password: \")\n",
    "    \n",
    "    conn = create_db_connection()\n",
    "    cursor = conn.cursor()\n",
    "    cursor.execute(\"SELECT * FROM dbo.Users WHERE username=?\", (username,)) \n",
    "    user = cursor.fetchone()\n",
    "    conn.close()\n",
    "\n",
    "    if user:\n",
    "        stored_password = user[2]  # Retrieve the stored hashed password (index 2 for password column)\n",
    "        if stored_password == hash_password(password):\n",
    "            print(f\"Welcome back, {username}!\")\n",
    "        else:\n",
    "            print(\"Incorrect password. Please try again.\")\n",
    "    else:\n",
    "        print(\"Username not found. Please try again.\")\n",
    "\n",
    " #Main function for handling user interaction\n",
    "def main():\n",
    "    while True:\n",
    "        print(\"\\n1. Sign Up\")\n",
    "        print(\"2. Log In\")\n",
    "        print(\"3. Exit\")\n",
    "        choice = input(\"Select an option (1/2/3): \")\n",
    "        \n",
    "        if choice == '1':\n",
    "            signup()\n",
    "        elif choice == '2':\n",
    "            login()\n",
    "        elif choice == '3':\n",
    "            print(\"Goodbye!,Thank you\")\n",
    "            break\n",
    "        else:\n",
    "            print(\"Invalid option. Please try again.\")\n",
    "\n",
    "if __name__ == '__main__':\n",
    "    main()\n"
   ]
  },
  {
   "cell_type": "code",
   "execution_count": null,
   "metadata": {},
   "outputs": [],
   "source": []
  }
 ],
 "metadata": {
  "kernelspec": {
   "display_name": "Python 3",
   "language": "python",
   "name": "python3"
  },
  "language_info": {
   "codemirror_mode": {
    "name": "ipython",
    "version": 3
   },
   "file_extension": ".py",
   "mimetype": "text/x-python",
   "name": "python",
   "nbconvert_exporter": "python",
   "pygments_lexer": "ipython3",
   "version": "3.8.5"
  }
 },
 "nbformat": 4,
 "nbformat_minor": 4
}
